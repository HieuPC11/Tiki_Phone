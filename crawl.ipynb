{
 "cells": [
  {
   "cell_type": "code",
   "execution_count": 1,
   "id": "8ef9f2c9-3dc9-4766-ad14-43f1bbcfd39e",
   "metadata": {},
   "outputs": [],
   "source": [
    "import requests\n",
    "import time\n",
    "import random\n",
    "import pandas as pd\n",
    "from tqdm import tqdm\n",
    "from datetime import datetime"
   ]
  },
  {
   "cell_type": "markdown",
   "id": "e55b4210-bdf1-477e-9916-9eb5cc4e9e8d",
   "metadata": {},
   "source": [
    "## Crawl product data from tiki.vn"
   ]
  },
  {
   "cell_type": "code",
   "execution_count": 2,
   "id": "a1dd0bc1-6428-4bff-97c3-8ec5c4acec80",
   "metadata": {},
   "outputs": [],
   "source": [
    "urlKey_lst = ['dien-thoai-smartphone', 'may-tinh-bang', 'may-doc-sach', 'dien-thoai-pho-thong', 'dien-thoai-ban', \\\n",
    "             'laptop-truyen-thong', 'macbook-imac', 'laptop-gaming', 'laptop-2-trong-1']\n",
    "category_lst = ['1795', '1794', '28856', '1796', '8061', '29010', '2458', '5584', '29008']\n",
    "src_lst = ['c' + elem for elem in category_lst]\n",
    "last_page = [7, 2, 2, 1, 2, 11, 1, 2, 1]"
   ]
  },
  {
   "cell_type": "code",
   "execution_count": 3,
   "id": "a10571aa-5f7c-41d8-b26e-62b7901b3571",
   "metadata": {},
   "outputs": [
    {
     "data": {
      "text/plain": [
       "[('dien-thoai-smartphone', '1795', 'c1795', 7),\n",
       " ('may-tinh-bang', '1794', 'c1794', 2),\n",
       " ('may-doc-sach', '28856', 'c28856', 2),\n",
       " ('dien-thoai-pho-thong', '1796', 'c1796', 1),\n",
       " ('dien-thoai-ban', '8061', 'c8061', 2),\n",
       " ('laptop-truyen-thong', '29010', 'c29010', 11),\n",
       " ('macbook-imac', '2458', 'c2458', 1),\n",
       " ('laptop-gaming', '5584', 'c5584', 2),\n",
       " ('laptop-2-trong-1', '29008', 'c29008', 1)]"
      ]
     },
     "execution_count": 3,
     "metadata": {},
     "output_type": "execute_result"
    }
   ],
   "source": [
    "product_tpls = list(zip(urlKey_lst, category_lst, src_lst, last_page))\n",
    "product_tpls"
   ]
  },
  {
   "cell_type": "code",
   "execution_count": 4,
   "id": "f9f335df-b72c-4302-bc0a-e4a881b5caaf",
   "metadata": {},
   "outputs": [],
   "source": [
    "def parser_product(json):\n",
    "    try:\n",
    "        d = dict()\n",
    "        d['id'] = json.get('id')\n",
    "        d['product_name'] = json.get('name')\n",
    "        d['price(vnd)'] = json.get('price')\n",
    "        d['original_price'] = json.get('original_price')\n",
    "        d['discount'] = json.get('discount')\n",
    "        d['discount_rate(%)'] = json.get('discount_rate')\n",
    "        d['review_count'] = json.get('review_count')\n",
    "        d['rating_average'] = json.get('rating_average')\n",
    "        d['quantity_sold'] = json.get('quantity_sold').get('value')\n",
    "        d['brand_name'] = json.get('visible_impression_info').get('amplitude').get('brand_name')\n",
    "        d['origin'] = json.get('visible_impression_info').get('amplitude').get('origin')\n",
    "        \n",
    "    except:\n",
    "        pass\n",
    "        \n",
    "    return d"
   ]
  },
  {
   "cell_type": "code",
   "execution_count": 5,
   "id": "c97b1518-66fe-4ecf-8bdc-fa844ccb1cf1",
   "metadata": {},
   "outputs": [
    {
     "name": "stderr",
     "output_type": "stream",
     "text": [
      "  0%|          | 0/9 [00:00<?, ?it/s]"
     ]
    },
    {
     "name": "stdout",
     "output_type": "stream",
     "text": [
      "request successed!!!\n",
      "request successed!!!\n",
      "request successed!!!\n",
      "request successed!!!\n",
      "request successed!!!\n",
      "request successed!!!\n",
      "request successed!!!\n"
     ]
    },
    {
     "name": "stderr",
     "output_type": "stream",
     "text": [
      " 11%|█         | 1/9 [00:52<06:57, 52.21s/it]"
     ]
    },
    {
     "name": "stdout",
     "output_type": "stream",
     "text": [
      "request successed!!!\n",
      "request successed!!!\n"
     ]
    },
    {
     "name": "stderr",
     "output_type": "stream",
     "text": [
      " 22%|██▏       | 2/9 [01:04<03:21, 28.84s/it]"
     ]
    },
    {
     "name": "stdout",
     "output_type": "stream",
     "text": [
      "request successed!!!\n",
      "request successed!!!\n"
     ]
    },
    {
     "name": "stderr",
     "output_type": "stream",
     "text": [
      " 33%|███▎      | 3/9 [01:18<02:13, 22.19s/it]"
     ]
    },
    {
     "name": "stdout",
     "output_type": "stream",
     "text": [
      "request successed!!!\n"
     ]
    },
    {
     "name": "stderr",
     "output_type": "stream",
     "text": [
      " 44%|████▍     | 4/9 [01:24<01:18, 15.67s/it]"
     ]
    },
    {
     "name": "stdout",
     "output_type": "stream",
     "text": [
      "request successed!!!\n",
      "request successed!!!\n"
     ]
    },
    {
     "name": "stderr",
     "output_type": "stream",
     "text": [
      " 56%|█████▌    | 5/9 [01:36<00:57, 14.46s/it]"
     ]
    },
    {
     "name": "stdout",
     "output_type": "stream",
     "text": [
      "request successed!!!\n",
      "request successed!!!\n",
      "request successed!!!\n",
      "request successed!!!\n",
      "request successed!!!\n",
      "request successed!!!\n",
      "request successed!!!\n",
      "request successed!!!\n",
      "request successed!!!\n",
      "request successed!!!\n",
      "request successed!!!\n"
     ]
    },
    {
     "name": "stderr",
     "output_type": "stream",
     "text": [
      " 67%|██████▋   | 6/9 [02:53<01:46, 35.48s/it]"
     ]
    },
    {
     "name": "stdout",
     "output_type": "stream",
     "text": [
      "request successed!!!\n"
     ]
    },
    {
     "name": "stderr",
     "output_type": "stream",
     "text": [
      " 78%|███████▊  | 7/9 [03:00<00:52, 26.34s/it]"
     ]
    },
    {
     "name": "stdout",
     "output_type": "stream",
     "text": [
      "request successed!!!\n",
      "request successed!!!\n"
     ]
    },
    {
     "name": "stderr",
     "output_type": "stream",
     "text": [
      " 89%|████████▉ | 8/9 [03:10<00:21, 21.15s/it]"
     ]
    },
    {
     "name": "stdout",
     "output_type": "stream",
     "text": [
      "request successed!!!\n"
     ]
    },
    {
     "name": "stderr",
     "output_type": "stream",
     "text": [
      "100%|██████████| 9/9 [03:18<00:00, 22.04s/it]\n"
     ]
    }
   ],
   "source": [
    "product_data_lst = []\n",
    "current_time = datetime.now().strftime('%Y-%m-%d %H:%M:%S')\n",
    "\n",
    "for tpl in tqdm(product_tpls, total=len(product_tpls)):\n",
    "    headers = {\n",
    "            'User-Agent': 'Mozilla/5.0 (Windows NT 10.0; Win64; x64) AppleWebKit/537.36 (KHTML, like Gecko) \\\n",
    "                            Chrome/130.0.0.0 Safari/537.36 Edg/130.0.0.0',\n",
    "            'Accept': 'application/json, text/plain, */*',\n",
    "            'Accept-Language': 'vi-VN,vi;q=0.8,en-US;q=0.5,en;q=0.3',\n",
    "            'Referer': 'https://tiki.vn/?src=header_tiki',\n",
    "            'x-guest-token': '1QJlEwfALPxDmIkXyaFVheKH73SNqTtp',\n",
    "            'Connection': 'keep-alive',\n",
    "            'TE': 'Trailers',\n",
    "        }\n",
    "        \n",
    "    params = {     # in payload\n",
    "        'limit': '40',\n",
    "        'include': 'advertisement',\n",
    "        'aggregations': '2',\n",
    "        'trackity_id': 'e754a09e-ead7-eac2-8f8e-44b00fa8f486',\n",
    "        'category': tpl[1],\n",
    "        'page': '1',\n",
    "        'src': tpl[2],\n",
    "        'urlKey':  tpl[0],\n",
    "    }\n",
    "\n",
    "\n",
    "    for i in range(1, tpl[3] + 1):\n",
    "        params['page'] = i\n",
    "        response = requests.get('https://tiki.vn/api/personalish/v1/blocks/listings', headers=headers, params=params)\n",
    "        # response = requests.get('https://tiki.vn/api/v2/products', headers=headers, params=params)\n",
    "        if response.status_code == 200:\n",
    "            print('request successed!!!')\n",
    "            for product_record in response.json().get('data'):\n",
    "                product_data = parser_product(product_record)\n",
    "                product_data['subcategory_name'] = tpl[0]\n",
    "                product_data['updated_at'] = current_time\n",
    "                product_data_lst.append(product_data)\n",
    "                # print(product_record.get('id'))\n",
    "        else: \n",
    "            print('request failed!!!')\n",
    "            continue\n",
    "        time.sleep(random.randrange(3, 10))"
   ]
  },
  {
   "cell_type": "markdown",
   "id": "6c45e306-2a4a-4672-92b2-d61a722de315",
   "metadata": {},
   "source": [
    "## Data cleansing"
   ]
  },
  {
   "cell_type": "markdown",
   "id": "6c20be2c-c5f7-42b5-a030-10b47f68e5f1",
   "metadata": {},
   "source": [
    "### Drop duplicated values and fill missing values"
   ]
  },
  {
   "cell_type": "code",
   "execution_count": 6,
   "id": "cc477370-b100-427c-830a-b6be977d3ec8",
   "metadata": {},
   "outputs": [],
   "source": [
    "df_product_data = pd.DataFrame(product_data_lst)\n",
    "df_product_data = df_product_data.drop_duplicates()\n",
    "df_product_data = df_product_data.sort_values(by=['id', 'price(vnd)', 'discount'])\n",
    "df_product_data = df_product_data.drop_duplicates(subset='id', keep='last')"
   ]
  },
  {
   "cell_type": "code",
   "execution_count": 7,
   "id": "e2560ee9-b0c0-44a7-836d-67d0d662f134",
   "metadata": {},
   "outputs": [],
   "source": [
    "df_product_data['quantity_sold'] = df_product_data['quantity_sold'].fillna(0)"
   ]
  },
  {
   "cell_type": "markdown",
   "id": "94ca7d5c-d5f1-43a5-aebc-8e22bc69f719",
   "metadata": {},
   "source": [
    "### Categorize product data"
   ]
  },
  {
   "cell_type": "code",
   "execution_count": 8,
   "id": "d3cea8b5-c8ab-49cb-9759-8574234c04e2",
   "metadata": {},
   "outputs": [],
   "source": [
    "phone_lst = ['dien-thoai-smartphone', 'dien-thoai-pho-thong', 'dien-thoai-ban']\n",
    "tablet_lst = ['may-tinh-bang', 'may-doc-sach']\n",
    "laptop_lst = ['laptop-truyen-thong', 'macbook-imac', 'laptop-gaming', 'laptop-2-trong-1']"
   ]
  },
  {
   "cell_type": "code",
   "execution_count": 9,
   "id": "62a6cc0c-b62e-46fa-918d-b7399ff23a1b",
   "metadata": {},
   "outputs": [],
   "source": [
    "# Create a new column based on product_type\n",
    "def categorize_product(product_type):\n",
    "    if product_type in phone_lst:\n",
    "        return 'Điện thoại'\n",
    "    elif product_type in tablet_lst:\n",
    "        return 'Máy tính bảng'\n",
    "    else:\n",
    "        return 'Laptop'  # For products not in either list"
   ]
  },
  {
   "cell_type": "code",
   "execution_count": 10,
   "id": "b6209bde-9967-4b09-84a8-371b279e5252",
   "metadata": {},
   "outputs": [],
   "source": [
    "df_product_data['category_name'] = df_product_data['subcategory_name'].apply(categorize_product)"
   ]
  },
  {
   "cell_type": "code",
   "execution_count": 11,
   "id": "a4ac0e82-481e-436f-97c9-bdfe1e2ff6f5",
   "metadata": {},
   "outputs": [
    {
     "data": {
      "text/html": [
       "<div>\n",
       "<style scoped>\n",
       "    .dataframe tbody tr th:only-of-type {\n",
       "        vertical-align: middle;\n",
       "    }\n",
       "\n",
       "    .dataframe tbody tr th {\n",
       "        vertical-align: top;\n",
       "    }\n",
       "\n",
       "    .dataframe thead th {\n",
       "        text-align: right;\n",
       "    }\n",
       "</style>\n",
       "<table border=\"1\" class=\"dataframe\">\n",
       "  <thead>\n",
       "    <tr style=\"text-align: right;\">\n",
       "      <th></th>\n",
       "      <th>id</th>\n",
       "      <th>product_name</th>\n",
       "      <th>price(vnd)</th>\n",
       "      <th>original_price</th>\n",
       "      <th>discount</th>\n",
       "      <th>discount_rate(%)</th>\n",
       "      <th>review_count</th>\n",
       "      <th>rating_average</th>\n",
       "      <th>quantity_sold</th>\n",
       "      <th>brand_name</th>\n",
       "      <th>origin</th>\n",
       "      <th>subcategory_name</th>\n",
       "      <th>category_name</th>\n",
       "    </tr>\n",
       "  </thead>\n",
       "  <tbody>\n",
       "    <tr>\n",
       "      <th>230</th>\n",
       "      <td>4048043</td>\n",
       "      <td>Điện Thoại Bàn Panasonic KX-TS500</td>\n",
       "      <td>334000</td>\n",
       "      <td>369000</td>\n",
       "      <td>35000</td>\n",
       "      <td>9</td>\n",
       "      <td>25</td>\n",
       "      <td>4.5</td>\n",
       "      <td>315.0</td>\n",
       "      <td>Panasonic</td>\n",
       "      <td>None</td>\n",
       "      <td>dien-thoai-ban</td>\n",
       "      <td>Điện thoại</td>\n",
       "    </tr>\n",
       "    <tr>\n",
       "      <th>233</th>\n",
       "      <td>4048581</td>\n",
       "      <td>Điện Thoại Bàn Panasonic KX-TSC11</td>\n",
       "      <td>714000</td>\n",
       "      <td>759000</td>\n",
       "      <td>45000</td>\n",
       "      <td>6</td>\n",
       "      <td>9</td>\n",
       "      <td>4.5</td>\n",
       "      <td>66.0</td>\n",
       "      <td>Panasonic</td>\n",
       "      <td>None</td>\n",
       "      <td>dien-thoai-ban</td>\n",
       "      <td>Điện thoại</td>\n",
       "    </tr>\n",
       "    <tr>\n",
       "      <th>223</th>\n",
       "      <td>11251711</td>\n",
       "      <td>Điện thoại bàn không dây Panasonic KX-TGD312 -...</td>\n",
       "      <td>2190000</td>\n",
       "      <td>2190000</td>\n",
       "      <td>0</td>\n",
       "      <td>0</td>\n",
       "      <td>2</td>\n",
       "      <td>5.0</td>\n",
       "      <td>11.0</td>\n",
       "      <td>Panasonic</td>\n",
       "      <td>None</td>\n",
       "      <td>dien-thoai-ban</td>\n",
       "      <td>Điện thoại</td>\n",
       "    </tr>\n",
       "    <tr>\n",
       "      <th>224</th>\n",
       "      <td>11251770</td>\n",
       "      <td>Điện thoại bàn không dây Panasonic KX-TGD310 -...</td>\n",
       "      <td>1430000</td>\n",
       "      <td>1430000</td>\n",
       "      <td>0</td>\n",
       "      <td>0</td>\n",
       "      <td>0</td>\n",
       "      <td>0.0</td>\n",
       "      <td>4.0</td>\n",
       "      <td>Panasonic</td>\n",
       "      <td>None</td>\n",
       "      <td>dien-thoai-ban</td>\n",
       "      <td>Điện thoại</td>\n",
       "    </tr>\n",
       "    <tr>\n",
       "      <th>205</th>\n",
       "      <td>11251951</td>\n",
       "      <td>Điện thoại bàn không dây Panasonic KX-TGB110-H...</td>\n",
       "      <td>890000</td>\n",
       "      <td>890000</td>\n",
       "      <td>0</td>\n",
       "      <td>0</td>\n",
       "      <td>1</td>\n",
       "      <td>5.0</td>\n",
       "      <td>17.0</td>\n",
       "      <td>Panasonic</td>\n",
       "      <td>None</td>\n",
       "      <td>dien-thoai-ban</td>\n",
       "      <td>Điện thoại</td>\n",
       "    </tr>\n",
       "  </tbody>\n",
       "</table>\n",
       "</div>"
      ],
      "text/plain": [
       "           id                                       product_name  price(vnd)  \\\n",
       "230   4048043                  Điện Thoại Bàn Panasonic KX-TS500      334000   \n",
       "233   4048581                  Điện Thoại Bàn Panasonic KX-TSC11      714000   \n",
       "223  11251711  Điện thoại bàn không dây Panasonic KX-TGD312 -...     2190000   \n",
       "224  11251770  Điện thoại bàn không dây Panasonic KX-TGD310 -...     1430000   \n",
       "205  11251951  Điện thoại bàn không dây Panasonic KX-TGB110-H...      890000   \n",
       "\n",
       "     original_price  discount  discount_rate(%)  review_count  rating_average  \\\n",
       "230          369000     35000                 9            25             4.5   \n",
       "233          759000     45000                 6             9             4.5   \n",
       "223         2190000         0                 0             2             5.0   \n",
       "224         1430000         0                 0             0             0.0   \n",
       "205          890000         0                 0             1             5.0   \n",
       "\n",
       "     quantity_sold brand_name origin subcategory_name category_name  \n",
       "230          315.0  Panasonic   None   dien-thoai-ban    Điện thoại  \n",
       "233           66.0  Panasonic   None   dien-thoai-ban    Điện thoại  \n",
       "223           11.0  Panasonic   None   dien-thoai-ban    Điện thoại  \n",
       "224            4.0  Panasonic   None   dien-thoai-ban    Điện thoại  \n",
       "205           17.0  Panasonic   None   dien-thoai-ban    Điện thoại  "
      ]
     },
     "execution_count": 11,
     "metadata": {},
     "output_type": "execute_result"
    }
   ],
   "source": [
    "df_product_data.head()"
   ]
  },
  {
   "cell_type": "code",
   "execution_count": 12,
   "id": "88e0872f-a2e9-47e1-b54c-419afd8676c3",
   "metadata": {},
   "outputs": [],
   "source": [
    "df_product_data.to_csv('tiki_product_data.csv', index=False, encoding='utf-8-sig')"
   ]
  }
 ],
 "metadata": {
  "kernelspec": {
   "display_name": "Python 3",
   "language": "python",
   "name": "python3"
  },
  "language_info": {
   "codemirror_mode": {
    "name": "ipython",
    "version": 3
   },
   "file_extension": ".py",
   "mimetype": "text/x-python",
   "name": "python",
   "nbconvert_exporter": "python",
   "pygments_lexer": "ipython3",
   "version": "3.12.10"
  }
 },
 "nbformat": 4,
 "nbformat_minor": 5
}
